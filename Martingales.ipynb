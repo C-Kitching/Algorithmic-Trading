{
 "cells": [
  {
   "cell_type": "code",
   "execution_count": 20,
   "metadata": {},
   "outputs": [],
   "source": [
    "# imports\n",
    "import pandas as pd\n",
    "import numpy as np\n",
    "import matplotlib.pyplot as plt\n",
    "from backtesting import Strategy"
   ]
  },
  {
   "cell_type": "code",
   "execution_count": 21,
   "metadata": {},
   "outputs": [
    {
     "data": {
      "text/html": [
       "<div>\n",
       "<style scoped>\n",
       "    .dataframe tbody tr th:only-of-type {\n",
       "        vertical-align: middle;\n",
       "    }\n",
       "\n",
       "    .dataframe tbody tr th {\n",
       "        vertical-align: top;\n",
       "    }\n",
       "\n",
       "    .dataframe thead th {\n",
       "        text-align: right;\n",
       "    }\n",
       "</style>\n",
       "<table border=\"1\" class=\"dataframe\">\n",
       "  <thead>\n",
       "    <tr style=\"text-align: right;\">\n",
       "      <th></th>\n",
       "      <th>Local time</th>\n",
       "      <th>open</th>\n",
       "      <th>high</th>\n",
       "      <th>low</th>\n",
       "      <th>close</th>\n",
       "      <th>volume</th>\n",
       "    </tr>\n",
       "  </thead>\n",
       "  <tbody>\n",
       "    <tr>\n",
       "      <th>0</th>\n",
       "      <td>05.05.2003 00:00:00.000 GMT+0300</td>\n",
       "      <td>1.12354</td>\n",
       "      <td>1.13019</td>\n",
       "      <td>1.12030</td>\n",
       "      <td>1.12804</td>\n",
       "      <td>1053162.797</td>\n",
       "    </tr>\n",
       "    <tr>\n",
       "      <th>1</th>\n",
       "      <td>06.05.2003 00:00:00.000 GMT+0300</td>\n",
       "      <td>1.12798</td>\n",
       "      <td>1.14510</td>\n",
       "      <td>1.12738</td>\n",
       "      <td>1.14368</td>\n",
       "      <td>1061122.699</td>\n",
       "    </tr>\n",
       "    <tr>\n",
       "      <th>2</th>\n",
       "      <td>07.05.2003 00:00:00.000 GMT+0300</td>\n",
       "      <td>1.14367</td>\n",
       "      <td>1.14448</td>\n",
       "      <td>1.13275</td>\n",
       "      <td>1.13677</td>\n",
       "      <td>1056796.590</td>\n",
       "    </tr>\n",
       "    <tr>\n",
       "      <th>3</th>\n",
       "      <td>08.05.2003 00:00:00.000 GMT+0300</td>\n",
       "      <td>1.13675</td>\n",
       "      <td>1.15092</td>\n",
       "      <td>1.13026</td>\n",
       "      <td>1.15026</td>\n",
       "      <td>1058908.699</td>\n",
       "    </tr>\n",
       "    <tr>\n",
       "      <th>4</th>\n",
       "      <td>09.05.2003 00:00:00.000 GMT+0300</td>\n",
       "      <td>1.15002</td>\n",
       "      <td>1.15376</td>\n",
       "      <td>1.14362</td>\n",
       "      <td>1.14907</td>\n",
       "      <td>1063989.000</td>\n",
       "    </tr>\n",
       "  </tbody>\n",
       "</table>\n",
       "</div>"
      ],
      "text/plain": [
       "                         Local time     open     high      low    close  \\\n",
       "0  05.05.2003 00:00:00.000 GMT+0300  1.12354  1.13019  1.12030  1.12804   \n",
       "1  06.05.2003 00:00:00.000 GMT+0300  1.12798  1.14510  1.12738  1.14368   \n",
       "2  07.05.2003 00:00:00.000 GMT+0300  1.14367  1.14448  1.13275  1.13677   \n",
       "3  08.05.2003 00:00:00.000 GMT+0300  1.13675  1.15092  1.13026  1.15026   \n",
       "4  09.05.2003 00:00:00.000 GMT+0300  1.15002  1.15376  1.14362  1.14907   \n",
       "\n",
       "        volume  \n",
       "0  1053162.797  \n",
       "1  1061122.699  \n",
       "2  1056796.590  \n",
       "3  1058908.699  \n",
       "4  1063989.000  "
      ]
     },
     "execution_count": 21,
     "metadata": {},
     "output_type": "execute_result"
    }
   ],
   "source": [
    "# read in data\n",
    "df = pd.read_csv(\"EURUSD_Candlestick_1_D_ASK_05.05.2003-30.06.2021.csv\")\n",
    "df = df[df[\"volume\"] != 0]\n",
    "df.reset_index(drop = True, inplace = True)\n",
    "df.isna().sum\n",
    "df.head()"
   ]
  },
  {
   "cell_type": "code",
   "execution_count": 22,
   "metadata": {},
   "outputs": [
    {
     "data": {
      "text/html": [
       "<div>\n",
       "<style scoped>\n",
       "    .dataframe tbody tr th:only-of-type {\n",
       "        vertical-align: middle;\n",
       "    }\n",
       "\n",
       "    .dataframe tbody tr th {\n",
       "        vertical-align: top;\n",
       "    }\n",
       "\n",
       "    .dataframe thead th {\n",
       "        text-align: right;\n",
       "    }\n",
       "</style>\n",
       "<table border=\"1\" class=\"dataframe\">\n",
       "  <thead>\n",
       "    <tr style=\"text-align: right;\">\n",
       "      <th></th>\n",
       "      <th>Local time</th>\n",
       "      <th>open</th>\n",
       "      <th>high</th>\n",
       "      <th>low</th>\n",
       "      <th>close</th>\n",
       "      <th>volume</th>\n",
       "    </tr>\n",
       "  </thead>\n",
       "  <tbody>\n",
       "    <tr>\n",
       "      <th>4729</th>\n",
       "      <td>24.06.2021 00:00:00.000 GMT+0300</td>\n",
       "      <td>1.19267</td>\n",
       "      <td>1.19565</td>\n",
       "      <td>1.19178</td>\n",
       "      <td>1.19322</td>\n",
       "      <td>85152.21000</td>\n",
       "    </tr>\n",
       "    <tr>\n",
       "      <th>4730</th>\n",
       "      <td>25.06.2021 00:00:00.000 GMT+0300</td>\n",
       "      <td>1.19322</td>\n",
       "      <td>1.19754</td>\n",
       "      <td>1.19264</td>\n",
       "      <td>1.19392</td>\n",
       "      <td>77837.64500</td>\n",
       "    </tr>\n",
       "    <tr>\n",
       "      <th>4731</th>\n",
       "      <td>28.06.2021 00:00:00.000 GMT+0300</td>\n",
       "      <td>1.19380</td>\n",
       "      <td>1.19447</td>\n",
       "      <td>1.19025</td>\n",
       "      <td>1.19260</td>\n",
       "      <td>85154.26000</td>\n",
       "    </tr>\n",
       "    <tr>\n",
       "      <th>4732</th>\n",
       "      <td>29.06.2021 00:00:00.000 GMT+0300</td>\n",
       "      <td>1.19297</td>\n",
       "      <td>1.19334</td>\n",
       "      <td>1.18779</td>\n",
       "      <td>1.18973</td>\n",
       "      <td>98898.57000</td>\n",
       "    </tr>\n",
       "    <tr>\n",
       "      <th>4733</th>\n",
       "      <td>30.06.2021 00:00:00.000 GMT+0300</td>\n",
       "      <td>1.18973</td>\n",
       "      <td>1.19092</td>\n",
       "      <td>1.18452</td>\n",
       "      <td>1.18589</td>\n",
       "      <td>4301.30191</td>\n",
       "    </tr>\n",
       "  </tbody>\n",
       "</table>\n",
       "</div>"
      ],
      "text/plain": [
       "                            Local time     open     high      low    close  \\\n",
       "4729  24.06.2021 00:00:00.000 GMT+0300  1.19267  1.19565  1.19178  1.19322   \n",
       "4730  25.06.2021 00:00:00.000 GMT+0300  1.19322  1.19754  1.19264  1.19392   \n",
       "4731  28.06.2021 00:00:00.000 GMT+0300  1.19380  1.19447  1.19025  1.19260   \n",
       "4732  29.06.2021 00:00:00.000 GMT+0300  1.19297  1.19334  1.18779  1.18973   \n",
       "4733  30.06.2021 00:00:00.000 GMT+0300  1.18973  1.19092  1.18452  1.18589   \n",
       "\n",
       "           volume  \n",
       "4729  85152.21000  \n",
       "4730  77837.64500  \n",
       "4731  85154.26000  \n",
       "4732  98898.57000  \n",
       "4733   4301.30191  "
      ]
     },
     "execution_count": 22,
     "metadata": {},
     "output_type": "execute_result"
    }
   ],
   "source": [
    "df.tail()"
   ]
  },
  {
   "cell_type": "code",
   "execution_count": 23,
   "metadata": {},
   "outputs": [],
   "source": [
    "df[\"signal\"] = np.random.random(len(df))\n",
    "df[\"signal\"] = df[\"signal\"].apply(lambda x : 1 if x < 0.5 else 2)"
   ]
  },
  {
   "cell_type": "code",
   "execution_count": 24,
   "metadata": {},
   "outputs": [
    {
     "data": {
      "text/plain": [
       "Local time    4734\n",
       "open          4734\n",
       "high          4734\n",
       "low           4734\n",
       "close         4734\n",
       "volume        4734\n",
       "signal        4734\n",
       "dtype: int64"
      ]
     },
     "execution_count": 24,
     "metadata": {},
     "output_type": "execute_result"
    }
   ],
   "source": [
    "df[df[\"signal\"] == 1].count() + df[df[\"signal\"] == 2].count()"
   ]
  },
  {
   "cell_type": "code",
   "execution_count": 25,
   "metadata": {},
   "outputs": [],
   "source": [
    "def SIGNAL():\n",
    "    return df.signal\n",
    "\n",
    "df.columns = [\"Time\", \"Open\", \"High\", \"Low\", \"Close\", \"Volume\", \"signal\"]\n",
    "\n",
    "class my_strat(Strategy):\n",
    "    initsize = 1\n",
    "    mysize = initsize\n",
    "    def init(self):\n",
    "        super().init()\n",
    "        self.signal = self.I(SIGNAL)\n",
    "\n",
    "    def next(self):\n",
    "        super().next()\n",
    "\n",
    "        if(self.signal1 > 0 and len(self.trades) == 0 and len(self.closed_trades) > 0 and self.closed_trades[-1].pl < 0):\n",
    "            self.mysize *= 2\n",
    "        elif len(self.closed_trades) > 0 and self.closed_trades[-1].pl > 0:\n",
    "            self.mysize = self.initsize\n",
    "        \n",
    "        if self.signal1 == 2 and len(self.trades) == 0:\n",
    "            sl1 = self.data.Close[-1] - 600e-4\n",
    "            tp1 = self.data.Close[-1] + 600e-4\n",
    "            self.buy(sl = sl1, tp = tp1, size = self.mysize)\n",
    "\n",
    "        if self.signal1 == 1 and len(self.trades) == 0:\n",
    "            sl1 = self.data.Close[-1] - 600e-4\n",
    "            tp1 = self.data.Close[-1] + 600e-4\n",
    "            self.buy(sl = sl1, tp = tp1, size = self.mysize)"
   ]
  },
  {
   "cell_type": "code",
   "execution_count": 26,
   "metadata": {},
   "outputs": [
    {
     "name": "stderr",
     "output_type": "stream",
     "text": [
      "C:\\Users\\CKitc\\AppData\\Local\\Temp\\ipykernel_4304\\4120176928.py:2: UserWarning: Data index is not datetime. Assuming simple periods, but `pd.DateTimeIndex` is advised.\n",
      "  bt = Backtest(df, my_strat, cash = 10000, commission = .00)\n"
     ]
    },
    {
     "ename": "TypeError",
     "evalue": "Can't instantiate abstract class my_strat with abstract method init",
     "output_type": "error",
     "traceback": [
      "\u001b[1;31m---------------------------------------------------------------------------\u001b[0m",
      "\u001b[1;31mTypeError\u001b[0m                                 Traceback (most recent call last)",
      "Cell \u001b[1;32mIn[26], line 3\u001b[0m\n\u001b[0;32m      1\u001b[0m \u001b[39mfrom\u001b[39;00m \u001b[39mbacktesting\u001b[39;00m \u001b[39mimport\u001b[39;00m Backtest\n\u001b[0;32m      2\u001b[0m bt \u001b[39m=\u001b[39m Backtest(df, my_strat, cash \u001b[39m=\u001b[39m \u001b[39m10000\u001b[39m, commission \u001b[39m=\u001b[39m \u001b[39m.00\u001b[39m)\n\u001b[1;32m----> 3\u001b[0m stat \u001b[39m=\u001b[39m bt\u001b[39m.\u001b[39;49mrun()\n\u001b[0;32m      4\u001b[0m stat\n",
      "File \u001b[1;32mc:\\Users\\CKitc\\OneDrive\\Desktop\\GitHub\\Algorithmic-Trading\\.venv\\lib\\site-packages\\backtesting\\backtesting.py:1137\u001b[0m, in \u001b[0;36mBacktest.run\u001b[1;34m(self, **kwargs)\u001b[0m\n\u001b[0;32m   1135\u001b[0m data \u001b[39m=\u001b[39m _Data(\u001b[39mself\u001b[39m\u001b[39m.\u001b[39m_data\u001b[39m.\u001b[39mcopy(deep\u001b[39m=\u001b[39m\u001b[39mFalse\u001b[39;00m))\n\u001b[0;32m   1136\u001b[0m broker: _Broker \u001b[39m=\u001b[39m \u001b[39mself\u001b[39m\u001b[39m.\u001b[39m_broker(data\u001b[39m=\u001b[39mdata)\n\u001b[1;32m-> 1137\u001b[0m strategy: Strategy \u001b[39m=\u001b[39m \u001b[39mself\u001b[39;49m\u001b[39m.\u001b[39;49m_strategy(broker, data, kwargs)\n\u001b[0;32m   1139\u001b[0m strategy\u001b[39m.\u001b[39minit()\n\u001b[0;32m   1140\u001b[0m data\u001b[39m.\u001b[39m_update()  \u001b[39m# Strategy.init might have changed/added to data.df\u001b[39;00m\n",
      "\u001b[1;31mTypeError\u001b[0m: Can't instantiate abstract class my_strat with abstract method init"
     ]
    }
   ],
   "source": [
    "from backtesting import Backtest\n",
    "bt = Backtest(df, my_strat, cash = 10000, commission = .00)\n",
    "stat = bt.run()\n",
    "stat"
   ]
  }
 ],
 "metadata": {
  "kernelspec": {
   "display_name": ".venv",
   "language": "python",
   "name": "python3"
  },
  "language_info": {
   "codemirror_mode": {
    "name": "ipython",
    "version": 3
   },
   "file_extension": ".py",
   "mimetype": "text/x-python",
   "name": "python",
   "nbconvert_exporter": "python",
   "pygments_lexer": "ipython3",
   "version": "3.10.7"
  },
  "orig_nbformat": 4
 },
 "nbformat": 4,
 "nbformat_minor": 2
}
